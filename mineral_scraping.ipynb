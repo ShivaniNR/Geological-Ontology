{
 "cells": [
  {
   "cell_type": "code",
   "execution_count": 1,
   "metadata": {},
   "outputs": [],
   "source": [
    "from bs4 import BeautifulSoup\n",
    "import requests\n",
    "import pandas as pd\n",
    "import re\n",
    "import time"
   ]
  },
  {
   "cell_type": "markdown",
   "metadata": {},
   "source": [
    "# 1st link"
   ]
  },
  {
   "cell_type": "code",
   "execution_count": 2,
   "metadata": {},
   "outputs": [],
   "source": [
    "def mineralsExtract(mineralMainCategory, mineralsList, minerals, parentList):\n",
    "    dfnative = pd.DataFrame()\n",
    "    for subCategory in mineralsList:\n",
    "        for subelements in subCategory.find_all(\"dd\")[:2]:\n",
    "            if subelements.find(\"a\").text not in minerals:\n",
    "                minerals.append(subelements.find(\"a\").text)\n",
    "                parentList.append(mineralMainCategory)\n",
    "    return [minerals, parentList]"
   ]
  },
  {
   "cell_type": "code",
   "execution_count": 3,
   "metadata": {},
   "outputs": [
    {
     "name": "stdout",
     "output_type": "stream",
     "text": [
      "https://www.webmineral.com/strunz/strunz.php?class=01\n",
      "ELEMENTS\n",
      "https://www.webmineral.com/strunz/strunz.php?class=02\n",
      "SULFIDES and SULFOSALTS\n",
      "https://www.webmineral.com/strunz/strunz.php?class=03\n",
      "HALIDES\n",
      "https://www.webmineral.com/strunz/strunz.php?class=04\n",
      "OXIDES\n",
      "https://www.webmineral.com/strunz/strunz.php?class=05\n",
      "CARBONATES\n",
      "https://www.webmineral.com/strunz/strunz.php?class=06\n",
      "BORATES\n",
      "https://www.webmineral.com/strunz/strunz.php?class=07\n",
      "SULFATES\n",
      "https://www.webmineral.com/strunz/strunz.php?class=08\n",
      "PHOSPHATES ARSENATES VANADATES\n",
      "https://www.webmineral.com/strunz/strunz.php?class=09\n",
      "SILICATES\n",
      "https://www.webmineral.com/strunz/strunz.php?class=010\n",
      "ORGANIC COMPOUNDS\n"
     ]
    }
   ],
   "source": [
    "def scrape_pages(URL):\n",
    "    max_pages = 9\n",
    "    current_page = 1\n",
    "    minerals = []\n",
    "    parent = []\n",
    "    finalDF = pd.DataFrame()\n",
    "    while current_page <= max_pages+1:\n",
    "        print(f'{URL}{current_page}')\n",
    "        if current_page == 10:\n",
    "            content = requests.get(f'{URL[:-1]}{current_page}').text\n",
    "        else:\n",
    "            content = requests.get(f'{URL}{current_page}').text\n",
    "        mineralSoup = BeautifulSoup(content, 'html.parser')\n",
    "        mineralDataClass1 = mineralSoup.find(\"blockquote\")\n",
    "        mineralMainCategory = mineralDataClass1.find(\"h2\").text\n",
    "        result = re.search(\"-(.*)S \", mineralMainCategory)\n",
    "        mineralMainCategory = str(str(result.group(1)) + \"S\").lstrip().replace(\",\",\"\")#print(result.group(1))\n",
    "        print(mineralMainCategory)\n",
    "        minerals, parent = mineralsExtract(mineralMainCategory, mineralDataClass1.find_all(\"blockquote\", limit=5), minerals, \n",
    "                                           parent)\n",
    "        time.sleep(15) \n",
    "        current_page += 1\n",
    "    finalDF = pd.DataFrame({\"Mineral\":minerals, \"Parent\": parent, \"Relation\": \"instanceOf\"})\n",
    "    finalDF.to_excel(\"outputmineralnew.xlsx\")\n",
    "    finalDF.to_csv(\"outputmineralnew.csv\")\n",
    "    return finalDF\n",
    "\n",
    "\n",
    "def main():\n",
    "    URL = 'https://www.webmineral.com/strunz/strunz.php?class=0'\n",
    "    data = scrape_pages(URL)\n",
    "\n",
    "if __name__ == '__main__':\n",
    "    exit(main())"
   ]
  },
  {
   "cell_type": "markdown",
   "metadata": {},
   "source": [
    "# 2nd link"
   ]
  },
  {
   "cell_type": "code",
   "execution_count": 4,
   "metadata": {},
   "outputs": [],
   "source": [
    "headers = {\n",
    "    'User-Agent': 'Mozilla/5.0 (Macintosh; Intel Mac OS X 10.12; rv:55.0) Gecko/20100101 Firefox/55.0',\n",
    "}\n",
    "\n",
    "html_content = requests.get('https://www.nmnhs.com/gemmology/classification/list_minerals-en.html', headers=headers).text\n",
    "soup = BeautifulSoup(html_content, 'html.parser')"
   ]
  },
  {
   "cell_type": "code",
   "execution_count": 5,
   "metadata": {},
   "outputs": [],
   "source": [
    "mineral2 = soup.find(\"div\", class_=\"box_emph_y\")"
   ]
  },
  {
   "cell_type": "code",
   "execution_count": 6,
   "metadata": {},
   "outputs": [
    {
     "name": "stdout",
     "output_type": "stream",
     "text": [
      "         Mineral                   Parent    Relation\n",
      "0        Diamond                 ELEMENTS  instanceOf\n",
      "1     Sphalerite  SULFIDES and SULFOSALTS  instanceOf\n",
      "2       Fluorite                  HALIDES  instanceOf\n",
      "3    Chrysoberyl                   OXIDES  instanceOf\n",
      "4         Spinel                   OXIDES  instanceOf\n",
      "..           ...                      ...         ...\n",
      "101    Marialite                SILICATES  instanceOf\n",
      "102    Natrolite                SILICATES  instanceOf\n",
      "103    Scolecite                SILICATES  instanceOf\n",
      "104      Leucite                SILICATES  instanceOf\n",
      "105    Pollucite                SILICATES  instanceOf\n",
      "\n",
      "[106 rows x 3 columns]\n"
     ]
    }
   ],
   "source": [
    "mineral = []\n",
    "parents = []\n",
    "finalDF2 = pd.DataFrame()\n",
    "for i, header in enumerate(mineral2.find_all('b'), 1):\n",
    "    next_tag = header\n",
    "    j = 1\n",
    "    while True:\n",
    "        next_tag = next_tag.next_sibling\n",
    "        if next_tag is None or next_tag.name == 'b':\n",
    "            break\n",
    "        if next_tag.name is not None:\n",
    "            parent = header.text.split(\" (\")[0].upper().replace(\"&\", \"and\").replace(\",\", \"\")\n",
    "            parent = \"OXIDES\" if (parent == \"OXIDES and HYDROXIDES\") else parent\n",
    "            parent = \"SULFATES\" if (parent == \"SULPHATES\") else parent\n",
    "            parent = \"SULFIDES and SULFOSALTS\" if (parent == \"SULPHIDES and SULPHOSALTS\") else parent\n",
    "            if(next_tag.text and (next_tag.has_attr('class') and next_tag['class'][0] == 'n_body_blt')):\n",
    "                result = re.search(\"[0-9].(.*) \", next_tag.text)\n",
    "                mineral_name = next_tag.text.split(result.group(0))[1].replace(\" \", \"_\")\n",
    "                mineral.append(mineral_name)\n",
    "                parents.append(parent)\n",
    "            j += 1\n",
    "        finalDF2 = pd.DataFrame({\"Mineral\":mineral, \"Parent\": parents, \"Relation\": \"instanceOf\"})\n",
    "print(finalDF2)"
   ]
  },
  {
   "cell_type": "markdown",
   "metadata": {},
   "source": [
    "# Data Aggregation"
   ]
  },
  {
   "cell_type": "code",
   "execution_count": 7,
   "metadata": {},
   "outputs": [],
   "source": [
    "final = finalDF2.to_csv('outputmineralnew.csv', mode='a', header=False)"
   ]
  },
  {
   "cell_type": "code",
   "execution_count": null,
   "metadata": {},
   "outputs": [],
   "source": [
    "data = pd.read_csv(\"outputmineralnew.csv\")\n",
    "data = data.drop_duplicates(['Mineral'])\n",
    "data.to_csv(\"outputmineralremoveduplicates.csv\")"
   ]
  },
  {
   "cell_type": "markdown",
   "metadata": {},
   "source": [
    "# Save to existing ontology"
   ]
  },
  {
   "cell_type": "code",
   "execution_count": null,
   "metadata": {},
   "outputs": [],
   "source": [
    "#loading the ontology:\n",
    "import pandas as pd\n",
    "from owlready2 import *\n",
    "onto = get_ontology(\"file://C:/Users/Lenovo/Desktop/UNI-Koblenz-Landua/Research/Coding/geological-taxonomy.owl\").load()"
   ]
  },
  {
   "cell_type": "code",
   "execution_count": null,
   "metadata": {},
   "outputs": [],
   "source": [
    "data = pd.read_csv(\"outputmineralremoveduplicates.csv\")"
   ]
  },
  {
   "cell_type": "code",
   "execution_count": null,
   "metadata": {},
   "outputs": [],
   "source": [
    "for index, row in data.iterrows():\n",
    "    with onto:\n",
    "        mineral = row['Mineral']\n",
    "        parent = row['Parent'].lower().replace(\" \",\"_\")\n",
    "        for mineralCat in list(onto.Mineral.subclasses()):\n",
    "            if(parent == mineralCat.name.lower()):\n",
    "                mineral_name = mineralCat(mineral)"
   ]
  },
  {
   "cell_type": "code",
   "execution_count": null,
   "metadata": {},
   "outputs": [],
   "source": [
    "for i in onto.Sulfates.instances(): print(i)"
   ]
  },
  {
   "cell_type": "code",
   "execution_count": null,
   "metadata": {},
   "outputs": [],
   "source": [
    "onto.save(file = \"../geological-taxonomy.owl\", format = \"rdfxml\")"
   ]
  }
 ],
 "metadata": {
  "kernelspec": {
   "display_name": "Python 3",
   "language": "python",
   "name": "python3"
  },
  "language_info": {
   "codemirror_mode": {
    "name": "ipython",
    "version": 3
   },
   "file_extension": ".py",
   "mimetype": "text/x-python",
   "name": "python",
   "nbconvert_exporter": "python",
   "pygments_lexer": "ipython3",
   "version": "3.8.3"
  }
 },
 "nbformat": 4,
 "nbformat_minor": 4
}
