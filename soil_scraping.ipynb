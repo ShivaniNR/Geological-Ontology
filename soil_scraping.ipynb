{
 "cells": [
  {
   "cell_type": "code",
   "execution_count": 2,
   "metadata": {},
   "outputs": [],
   "source": [
    "from bs4 import BeautifulSoup\n",
    "import requests\n",
    "import pandas as pd"
   ]
  },
  {
   "cell_type": "markdown",
   "metadata": {},
   "source": [
    "# 1st link"
   ]
  },
  {
   "cell_type": "code",
   "execution_count": 2,
   "metadata": {},
   "outputs": [],
   "source": [
    "headers = {\n",
    "    'User-Agent': 'Mozilla/5.0 (Macintosh; Intel Mac OS X 10.12; rv:55.0) Gecko/20100101 Firefox/55.0',\n",
    "}\n",
    "\n",
    "content = requests.get('https://www.nrcs.usda.gov/wps/portal/nrcs/main/soils/survey/class/maps/', headers=headers).text\n",
    "soilSoup = BeautifulSoup(content, 'html.parser')"
   ]
  },
  {
   "cell_type": "code",
   "execution_count": 3,
   "metadata": {},
   "outputs": [
    {
     "name": "stdout",
     "output_type": "stream",
     "text": [
      "           Soil Parent  Relation\n",
      "0      Alfisols   Soil  subClass\n",
      "1      Andisols   Soil  subClass\n",
      "2     Aridisols   Soil  subClass\n",
      "3      Entisols   Soil  subClass\n",
      "4      Gelisols   Soil  subClass\n",
      "5     Histosols   Soil  subClass\n",
      "6   Inceptisols   Soil  subClass\n",
      "7     Mollisols   Soil  subClass\n",
      "8       Oxisols   Soil  subClass\n",
      "9     Spodosols   Soil  subClass\n",
      "10     Ultisols   Soil  subClass\n",
      "11    Vertisols   Soil  subClass\n"
     ]
    }
   ],
   "source": [
    "soilList = soilSoup.find(\"div\", class_=\"centerColImg\").find_all(\"h3\")\n",
    "soil_types = []\n",
    "dfsoil1 = pd.DataFrame()\n",
    "for item in soilList[1:]:\n",
    "    soil_types.append(item.get_text().replace('\\n', '').replace('\\r', '').replace('\\t', ''))\n",
    "dfsoil1 = pd.DataFrame({\"Soil\":soil_types, \"Parent\": \"Soil\", \"Relation\": \"subClass\"})\n",
    "print(dfsoil1)"
   ]
  },
  {
   "cell_type": "markdown",
   "metadata": {},
   "source": [
    "# 2nd link"
   ]
  },
  {
   "cell_type": "code",
   "execution_count": 5,
   "metadata": {},
   "outputs": [],
   "source": [
    "headers = {\n",
    "    'User-Agent': 'Mozilla/5.0 (Macintosh; Intel Mac OS X 10.12; rv:55.0) Gecko/20100101 Firefox/55.0',\n",
    "}\n",
    "\n",
    "content = requests.get('https://sites.google.com/site/dinpuithai/Home/key10', headers=headers).text\n",
    "soilSoup2 = BeautifulSoup(content, 'html.parser')"
   ]
  },
  {
   "cell_type": "code",
   "execution_count": 6,
   "metadata": {},
   "outputs": [],
   "source": [
    "def traverse1(ul):\n",
    "    result = {}\n",
    "    for li in ul.find_all(\"li\", recursive=False):\n",
    "        key = next(li.stripped_strings)\n",
    "        HasUL = li.find(\"ul\")\n",
    "        #If you want only the node text\n",
    "        #result[key] = None if HasUL is None else traverse1(HasUL)\n",
    "        result[key] = key\n",
    "    return result"
   ]
  },
  {
   "cell_type": "code",
   "execution_count": 7,
   "metadata": {},
   "outputs": [
    {
     "name": "stdout",
     "output_type": "stream",
     "text": [
      "         Soil    Parent  Relation\n",
      "0    Gelisols      Soil  subClass\n",
      "1     Histels  Gelisols  subClass\n",
      "2     Turbels  Gelisols  subClass\n",
      "3     Orthels  Gelisols  subClass\n",
      "4   Histosols      Soil  subClass\n",
      "..        ...       ...       ...\n",
      "75    Aquents  Entisols  subClass\n",
      "76     Arents  Entisols  subClass\n",
      "77  Psamments  Entisols  subClass\n",
      "78   Fluvents  Entisols  subClass\n",
      "79   Orthents  Entisols  subClass\n",
      "\n",
      "[80 rows x 3 columns]\n"
     ]
    }
   ],
   "source": [
    "dictionary = {}\n",
    "soil = []\n",
    "parent = []\n",
    "for item in soilList2:\n",
    "    soilCategory = item.find(\"div\").text.split(\".\")[1]\n",
    "    soil.append(soilCategory)\n",
    "    parent.append(\"Soil\")\n",
    "    dictionary = traverse1(item.find(\"ul\"))\n",
    "    for key, value in dictionary.items():\n",
    "        soil.append(key.split(\".\")[1])\n",
    "        parent.append(soilCategory)\n",
    "        if type(value) is dict:\n",
    "            for key1, value1 in value.items():\n",
    "                soil.append(key1.split(\".\")[1])\n",
    "                parent.append(key.split(\".\")[1])\n",
    "    dfnewsoil = pd.DataFrame({\"Soil\":soil, \"Parent\": parent, \"Relation\": \"subClass\"})\n",
    "print(dfnewsoil)"
   ]
  },
  {
   "cell_type": "markdown",
   "metadata": {},
   "source": [
    "# Data Aggregation "
   ]
  },
  {
   "cell_type": "code",
   "execution_count": 8,
   "metadata": {},
   "outputs": [],
   "source": [
    "frames = [dfsoil1, dfnewsoil]"
   ]
  },
  {
   "cell_type": "code",
   "execution_count": 9,
   "metadata": {},
   "outputs": [],
   "source": [
    "result = pd.concat(frames)"
   ]
  },
  {
   "cell_type": "code",
   "execution_count": 10,
   "metadata": {},
   "outputs": [
    {
     "name": "stdout",
     "output_type": "stream",
     "text": [
      "         Soil    Parent  Relation\n",
      "0    Alfisols      Soil  subClass\n",
      "1    Andisols      Soil  subClass\n",
      "2   Aridisols      Soil  subClass\n",
      "3    Entisols      Soil  subClass\n",
      "4    Gelisols      Soil  subClass\n",
      "..        ...       ...       ...\n",
      "75    Aquents  Entisols  subClass\n",
      "76     Arents  Entisols  subClass\n",
      "77  Psamments  Entisols  subClass\n",
      "78   Fluvents  Entisols  subClass\n",
      "79   Orthents  Entisols  subClass\n",
      "\n",
      "[92 rows x 3 columns]\n"
     ]
    }
   ],
   "source": [
    "print(result)"
   ]
  },
  {
   "cell_type": "code",
   "execution_count": 11,
   "metadata": {},
   "outputs": [],
   "source": [
    "result1 = result.drop_duplicates(['Soil'])"
   ]
  },
  {
   "cell_type": "code",
   "execution_count": 12,
   "metadata": {},
   "outputs": [],
   "source": [
    "result1.to_excel(\"outputsoilremovingDuplicatesNEW.xlsx\") \n",
    "result1.to_csv(\"outputsoilremovingDuplicatesNEW.csv\", index=False) "
   ]
  },
  {
   "cell_type": "markdown",
   "metadata": {},
   "source": [
    "# Save to existing ontology"
   ]
  },
  {
   "cell_type": "code",
   "execution_count": 1,
   "metadata": {},
   "outputs": [],
   "source": [
    "import pandas as pd\n",
    "from owlready2 import *\n",
    "onto = get_ontology(\"file://C:/Users/Lenovo/Desktop/UNI-Koblenz-Landua/Research/Coding/geological-taxonomy.owl\").load()\n",
    "with onto:\n",
    "    class Soil(onto.Geological_Object):\n",
    "        pass"
   ]
  },
  {
   "cell_type": "code",
   "execution_count": null,
   "metadata": {},
   "outputs": [],
   "source": [
    "data = pd.read_csv(\"outputsoilremovingDuplicates.csv\")"
   ]
  },
  {
   "cell_type": "code",
   "execution_count": null,
   "metadata": {},
   "outputs": [],
   "source": [
    "for index, row in data.iterrows():\n",
    "    with onto:\n",
    "        soil = row['Soil']\n",
    "        parent = row['Parent']\n",
    "        for soilCategory in list(onto.classes()):\n",
    "            if (parent == soilCategory.name):\n",
    "                NewClass = type(soil,(soilCategory,),{})"
   ]
  },
  {
   "cell_type": "code",
   "execution_count": null,
   "metadata": {},
   "outputs": [],
   "source": [
    "for index, row in data.iterrows():\n",
    "    with onto:\n",
    "        soil = row['Soil']\n",
    "        parent = row['Parent']\n",
    "        for k in list(onto.classes()):\n",
    "            if(k.name==parent):\n",
    "                parent_class = k\n",
    "                break      \n",
    "        NewClass = type(soil,(k,),{})"
   ]
  },
  {
   "cell_type": "code",
   "execution_count": null,
   "metadata": {},
   "outputs": [],
   "source": [
    "onto.save(file = \"./geological-taxonomy.owl\", format = \"rdfxml\")"
   ]
  }
 ],
 "metadata": {
  "kernelspec": {
   "display_name": "Python 3",
   "language": "python",
   "name": "python3"
  },
  "language_info": {
   "codemirror_mode": {
    "name": "ipython",
    "version": 3
   },
   "file_extension": ".py",
   "mimetype": "text/x-python",
   "name": "python",
   "nbconvert_exporter": "python",
   "pygments_lexer": "ipython3",
   "version": "3.8.3"
  }
 },
 "nbformat": 4,
 "nbformat_minor": 4
}
