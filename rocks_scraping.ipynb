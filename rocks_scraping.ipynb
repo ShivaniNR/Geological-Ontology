{
 "cells": [
  {
   "cell_type": "code",
   "execution_count": 1,
   "metadata": {},
   "outputs": [],
   "source": [
    "from bs4 import BeautifulSoup\n",
    "import requests\n",
    "import pandas as pd"
   ]
  },
  {
   "cell_type": "markdown",
   "metadata": {},
   "source": [
    "# 1st link"
   ]
  },
  {
   "cell_type": "code",
   "execution_count": 2,
   "metadata": {},
   "outputs": [],
   "source": [
    "headers = {\n",
    "    'User-Agent': 'Mozilla/5.0 (Macintosh; Intel Mac OS X 10.12; rv:55.0) Gecko/20100101 Firefox/55.0',\n",
    "}\n",
    "\n",
    "content = requests.get('https://geology.fandom.com/wiki/List_of_rock_types', headers=headers).text\n",
    "bsoup3 = BeautifulSoup(content, 'html.parser')"
   ]
  },
  {
   "cell_type": "code",
   "execution_count": 3,
   "metadata": {},
   "outputs": [],
   "source": [
    "def check_rock_exists(rockname, rocks):\n",
    "    if rockname in rocks:\n",
    "        return True\n",
    "    else:\n",
    "        return False\n",
    "    \n",
    "    \n",
    "def get_rock_name(item, rocks, parentList, parent):\n",
    "    if(len(list(item.children)) > 1):\n",
    "        rock_name = list(item.children)[0].text\n",
    "    else:\n",
    "        if(item.find(\"span\")):\n",
    "            rock_name = item.findChildren(\"span\")[0].text\n",
    "        else:\n",
    "            rock_name = list(item.children)[0]\n",
    "    \n",
    "    if not check_rock_exists(rock_name, rocks):\n",
    "        rocks.append(rock_name)\n",
    "        parentList.append(parent)\n",
    "    return [rocks, rock_name]"
   ]
  },
  {
   "cell_type": "code",
   "execution_count": 4,
   "metadata": {},
   "outputs": [
    {
     "name": "stdout",
     "output_type": "stream",
     "text": [
      "              Rocks             Parent         MainParent  Relation\n",
      "0          Andesite      Igneous rocks      Igneous rocks  subClass\n",
      "1       Anorthosite      Igneous rocks      Igneous rocks  subClass\n",
      "2            Aplite      Igneous rocks      Igneous rocks  subClass\n",
      "3            Basalt      Igneous rocks      Igneous rocks  subClass\n",
      "4           Adakite             Basalt      Igneous rocks  subClass\n",
      "..              ...                ...                ...       ...\n",
      "124           Slate  Metamorphic rocks  Metamorphic rocks  subClass\n",
      "125         Suevite  Metamorphic rocks  Metamorphic rocks  subClass\n",
      "126  Talc carbonate  Metamorphic rocks  Metamorphic rocks  subClass\n",
      "127       Soapstone     Talc carbonate  Metamorphic rocks  subClass\n",
      "128     Whiteschist  Metamorphic rocks  Metamorphic rocks  subClass\n",
      "\n",
      "[129 rows x 4 columns]\n"
     ]
    }
   ],
   "source": [
    "list3rd = bsoup3.find(id=\"toc\").find_next_siblings(\"h2\", limit=3)\n",
    "rocks = []\n",
    "parent = []\n",
    "mainParent = []\n",
    "df1 = pd.DataFrame()\n",
    "for item in list3rd:\n",
    "    rockCategory = item.find(\"span\").text\n",
    "    rockCategory = str(rockCategory) + \" rocks\"\n",
    "    for i in item.find_next_sibling(\"dl\").find_all(\"dd\"):\n",
    "        mainParent.append(rockCategory)\n",
    "        #for subchildelements\n",
    "        if i.findAll(\"dl\"):\n",
    "            rocks, subparent = get_rock_name(i, rocks, parent, rockCategory)\n",
    "            for subelements in i.find(\"dl\").find_all(\"dd\"):\n",
    "                rocks,roc = get_rock_name(subelements, rocks, parent, subparent)\n",
    "        #without having any child elements    \n",
    "        else:\n",
    "            rocks = get_rock_name(i, rocks, parent, rockCategory)[0]\n",
    "    df1 = pd.DataFrame({\"Rocks\":rocks, \"Parent\": parent, \"MainParent\":mainParent, \"Relation\": \"subClass\"})\n",
    "print(df1)"
   ]
  },
  {
   "cell_type": "markdown",
   "metadata": {},
   "source": [
    "# 2nd link"
   ]
  },
  {
   "cell_type": "code",
   "execution_count": 5,
   "metadata": {},
   "outputs": [],
   "source": [
    "#2nd link, 'https://www.sandatlas.org/rock-types/'\n",
    "headers = {\n",
    "    'User-Agent': 'Mozilla/5.0 (Macintosh; Intel Mac OS X 10.12; rv:55.0) Gecko/20100101 Firefox/55.0',\n",
    "}\n",
    "\n",
    "content = requests.get('https://www.sandatlas.org/rock-types/', headers=headers).text"
   ]
  },
  {
   "cell_type": "code",
   "execution_count": 6,
   "metadata": {},
   "outputs": [],
   "source": [
    "bsoup = BeautifulSoup(content, 'html.parser')"
   ]
  },
  {
   "cell_type": "code",
   "execution_count": 7,
   "metadata": {},
   "outputs": [
    {
     "name": "stdout",
     "output_type": "stream",
     "text": [
      "           Rocks             Parent         MainParent  Relation\n",
      "0       Andesite      Igneous rocks      Igneous rocks  subClass\n",
      "1    Anorthosite      Igneous rocks      Igneous rocks  subClass\n",
      "2         Aplite      Igneous rocks      Igneous rocks  subClass\n",
      "3         Basalt      Igneous rocks      Igneous rocks  subClass\n",
      "4       Basanite      Igneous rocks      Igneous rocks  subClass\n",
      "..           ...                ...                ...       ...\n",
      "96      Shungite  Metamorphic rocks  Metamorphic rocks  subClass\n",
      "97         Skarn  Metamorphic rocks  Metamorphic rocks  subClass\n",
      "98         Slate  Metamorphic rocks  Metamorphic rocks  subClass\n",
      "99     Soapstone  Metamorphic rocks  Metamorphic rocks  subClass\n",
      "100      Suevite  Metamorphic rocks  Metamorphic rocks  subClass\n",
      "\n",
      "[101 rows x 4 columns]\n"
     ]
    }
   ],
   "source": [
    "list1234 = bsoup.find(\"a\",attrs={\"name\": \"Contents\"}).find_all_next(\"p\", limit=3)\n",
    "df2 = pd.DataFrame()\n",
    "rocks = []\n",
    "parent = []\n",
    "mainParent = []\n",
    "for index, rClass in enumerate(list1234):\n",
    "    parentClass = rClass.find(\"strong\").text\n",
    "    if (index != 0):\n",
    "        rockSubClass = rClass.find_all(\"a\")[1:]\n",
    "    else:\n",
    "        rockSubClass = rClass.find_all(\"a\")\n",
    "    for i in rockSubClass:\n",
    "        rocks.append(i.text)\n",
    "        parent.append(parentClass)\n",
    "        mainParent.append(parentClass)\n",
    "    df2 = pd.DataFrame({\"Rocks\":rocks, \"Parent\": parent, \"MainParent\":mainParent, \"Relation\": \"subClass\"})\n",
    "print(df2)"
   ]
  },
  {
   "cell_type": "markdown",
   "metadata": {},
   "source": [
    "# 3rd link"
   ]
  },
  {
   "cell_type": "code",
   "execution_count": 8,
   "metadata": {},
   "outputs": [],
   "source": [
    "headers = {\n",
    "    'User-Agent': 'Mozilla/5.0 (Macintosh; Intel Mac OS X 10.12; rv:55.0) Gecko/20100101 Firefox/55.0',\n",
    "}\n",
    "\n",
    "html_content = requests.get('https://en.wikipedia.org/wiki/List_of_rock_types', headers=headers).text\n",
    "soup = BeautifulSoup(html_content, 'html.parser')"
   ]
  },
  {
   "cell_type": "code",
   "execution_count": 9,
   "metadata": {},
   "outputs": [],
   "source": [
    "list_items = soup.find(id=\"toc\").find_all_next(\"h2\", limit=4)"
   ]
  },
  {
   "cell_type": "code",
   "execution_count": 10,
   "metadata": {},
   "outputs": [
    {
     "name": "stdout",
     "output_type": "stream",
     "text": [
      "                       Rocks             Parent         MainParent  Relation\n",
      "0                    Adakite      Igneous rocks      Igneous rocks  subClass\n",
      "1                   Andesite      Igneous rocks      Igneous rocks  subClass\n",
      "2    Alkali feldspar granite      Igneous rocks      Igneous rocks  subClass\n",
      "3                Anorthosite      Igneous rocks      Igneous rocks  subClass\n",
      "4                     Aplite      Igneous rocks      Igneous rocks  subClass\n",
      "..                       ...                ...                ...       ...\n",
      "140                  Suevite  Metamorphic rocks  Metamorphic rocks  subClass\n",
      "141           Talc carbonate  Metamorphic rocks  Metamorphic rocks  subClass\n",
      "142                Soapstone     Talc carbonate  Metamorphic rocks  subClass\n",
      "143                Tectonite  Metamorphic rocks  Metamorphic rocks  subClass\n",
      "144              Whiteschist  Metamorphic rocks  Metamorphic rocks  subClass\n",
      "\n",
      "[145 rows x 4 columns]\n"
     ]
    }
   ],
   "source": [
    "df3 = pd.DataFrame()\n",
    "rocks = []\n",
    "parent = []\n",
    "mainParent = []\n",
    "for index,item in enumerate(list_items[1:]):\n",
    "    rockCat = item.find(\"span\").text\n",
    "    for rock in item.find_next(\"ul\").find_all(\"li\"):\n",
    "        mainParent.append(rockCat)\n",
    "        if(rock.findAll(\"ul\")):\n",
    "            if rock.find(\"a\").text in rocks:\n",
    "                continue\n",
    "            else:\n",
    "                subparent = rock.find(\"a\").text\n",
    "                rocks.append(subparent)\n",
    "                parent.append(rockCat)\n",
    "            for subelements in rock.find(\"ul\").findAll(\"li\"):\n",
    "                if subelements.find(\"a\").text in rocks:\n",
    "                    continue\n",
    "                else:\n",
    "                    rocks.append(subelements.find(\"a\").text)\n",
    "                    parent.append(subparent)\n",
    "            \n",
    "        else:\n",
    "            if rock.find(\"a\").text in rocks:\n",
    "                continue\n",
    "            else:\n",
    "                rocks.append(rock.find(\"a\").text)\n",
    "                parent.append(rockCat)\n",
    "    df3 = pd.DataFrame({\"Rocks\":rocks, \"Parent\": parent, \"MainParent\":mainParent, \"Relation\": \"subClass\"})\n",
    "print(df3)"
   ]
  },
  {
   "cell_type": "markdown",
   "metadata": {},
   "source": [
    "# Data Aggregation"
   ]
  },
  {
   "cell_type": "code",
   "execution_count": 11,
   "metadata": {},
   "outputs": [],
   "source": [
    "frames = [df1, df2, df3]"
   ]
  },
  {
   "cell_type": "code",
   "execution_count": 12,
   "metadata": {},
   "outputs": [],
   "source": [
    "result = pd.concat(frames)"
   ]
  },
  {
   "cell_type": "code",
   "execution_count": 13,
   "metadata": {},
   "outputs": [
    {
     "name": "stdout",
     "output_type": "stream",
     "text": [
      "              Rocks             Parent         MainParent  Relation\n",
      "0          Andesite      Igneous rocks      Igneous rocks  subClass\n",
      "1       Anorthosite      Igneous rocks      Igneous rocks  subClass\n",
      "2            Aplite      Igneous rocks      Igneous rocks  subClass\n",
      "3            Basalt      Igneous rocks      Igneous rocks  subClass\n",
      "4           Adakite             Basalt      Igneous rocks  subClass\n",
      "..              ...                ...                ...       ...\n",
      "140         Suevite  Metamorphic rocks  Metamorphic rocks  subClass\n",
      "141  Talc carbonate  Metamorphic rocks  Metamorphic rocks  subClass\n",
      "142       Soapstone     Talc carbonate  Metamorphic rocks  subClass\n",
      "143       Tectonite  Metamorphic rocks  Metamorphic rocks  subClass\n",
      "144     Whiteschist  Metamorphic rocks  Metamorphic rocks  subClass\n",
      "\n",
      "[375 rows x 4 columns]\n"
     ]
    }
   ],
   "source": [
    "print(result) "
   ]
  },
  {
   "cell_type": "code",
   "execution_count": 14,
   "metadata": {},
   "outputs": [],
   "source": [
    "result1 = result.drop_duplicates(['Rocks'])\n",
    "result1 = result1.sort_values(by=['Parent'])"
   ]
  },
  {
   "cell_type": "code",
   "execution_count": 15,
   "metadata": {},
   "outputs": [],
   "source": [
    "result1.to_csv(\"outputrockremovingDuplicates.csv\", index=False) "
   ]
  },
  {
   "cell_type": "markdown",
   "metadata": {},
   "source": [
    "# Save to existing ontology"
   ]
  },
  {
   "cell_type": "code",
   "execution_count": 29,
   "metadata": {},
   "outputs": [],
   "source": [
    "import pandas as pd\n",
    "from owlready2 import *\n",
    "onto = get_ontology(\"file://C:/Users/Lenovo/Desktop/UNI-Koblenz-Landua/Research/Coding/GeologicalTaxonomy.owl\").load()"
   ]
  },
  {
   "cell_type": "code",
   "execution_count": 30,
   "metadata": {},
   "outputs": [],
   "source": [
    "with onto:\n",
    "    class Igneous_rocks(onto.Rock):\n",
    "        pass\n",
    "    class Sedimentary_rocks(onto.Rock):\n",
    "        pass\n",
    "    class Metamorphic_rocks(onto.Rock):\n",
    "        pass"
   ]
  },
  {
   "cell_type": "code",
   "execution_count": 31,
   "metadata": {},
   "outputs": [],
   "source": [
    "data = pd.read_csv(\"outputrockremovingDuplicates.csv\")"
   ]
  },
  {
   "cell_type": "code",
   "execution_count": 32,
   "metadata": {},
   "outputs": [],
   "source": [
    "for index, row in data.iterrows():\n",
    "    with onto:\n",
    "        rock = row['Rocks'].replace(\" \",\"_\")\n",
    "        subParent = row['Parent'].replace(\" \",\"_\")\n",
    "        superParent = row['MainParent'].replace(\" \",\"_\")\n",
    "        for rockCategory in list(onto.classes()):\n",
    "            if (superParent == rockCategory.name) and (subParent != superParent):\n",
    "                NewClass = type(subParent,(rockCategory,),{})\n",
    "        for rockCat in list(onto.classes()):\n",
    "            if(rockCat.name==subParent):\n",
    "                parent_class = rockCat\n",
    "                break \n",
    "        NewClass = type(rock,(rockCat,),{})\n",
    "onto.save(file = \"./geological-taxonomy.owl\", format = \"rdfxml\")"
   ]
  },
  {
   "cell_type": "code",
   "execution_count": null,
   "metadata": {},
   "outputs": [],
   "source": []
  }
 ],
 "metadata": {
  "kernelspec": {
   "display_name": "Python 3",
   "language": "python",
   "name": "python3"
  },
  "language_info": {
   "codemirror_mode": {
    "name": "ipython",
    "version": 3
   },
   "file_extension": ".py",
   "mimetype": "text/x-python",
   "name": "python",
   "nbconvert_exporter": "python",
   "pygments_lexer": "ipython3",
   "version": "3.8.3"
  }
 },
 "nbformat": 4,
 "nbformat_minor": 4
}
